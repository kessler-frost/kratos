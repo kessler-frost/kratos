{
 "cells": [
  {
   "cell_type": "code",
   "execution_count": null,
   "id": "32c69722",
   "metadata": {},
   "outputs": [],
   "source": [
    "import kratos\n",
    "from agno.agent import Agent\n",
    "from agno.models.lmstudio import LMStudio\n",
    "from agno.tools.youtube import YouTubeTools\n",
    "from agno.tools.yfinance import YFinanceTools\n",
    "\n",
    "# Creating a few agents using the Agno framework for building agents\n",
    "# All the llm models here use LMStudio as the provider and connect to local API server\n",
    "# I'm using qwen/qwen3-4b model for both agents, but you can use any other model that you have access to.\n",
    "\n",
    "finance_agent = Agent(\n",
    "    model=LMStudio(\n",
    "        # id=\"qwen/qwen3-4b\",\n",
    "        id=\"qwen/qwen3-4b\",\n",
    "        base_url=\"http://host.docker.internal:1234/v1\",\n",
    "    ),\n",
    "    name=\"KratosFinance\",\n",
    "    tools=[YFinanceTools(stock_price=True, analyst_recommendations=True, company_info=True)],\n",
    "    instructions=\"You are Kratos Finance Agent, specialized in stock market analysis and financial data. Use YFinance to get current stock prices, analyst recommendations, and company information. When users ask about stocks, always provide current prices and relevant financial metrics. Be precise with numbers and explain what the data means for investment decisions.\",\n",
    ")\n",
    "\n",
    "\n",
    "youtube_agent = Agent(\n",
    "    model=LMStudio(\n",
    "        id=\"qwen/qwen3-4b\",\n",
    "        base_url=\"http://host.docker.internal:1234/v1\",\n",
    "    ),\n",
    "    name=\"KratosYouTube\",\n",
    "    tools=[YouTubeTools()],\n",
    "    instructions=\"You are Kratos YouTube Agent, specialized in analyzing YouTube videos and transcripts. Use YouTube tools to extract video information, transcripts, and analyze content. When users mention YouTube videos, provide detailed analysis of the content, key points, and insights from the transcript. Be thorough in your analysis and highlight important information.\",\n",
    ")\n"
   ]
  },
  {
   "cell_type": "code",
   "execution_count": 2,
   "id": "829090fc",
   "metadata": {},
   "outputs": [
    {
     "name": "stdout",
     "output_type": "stream",
     "text": [
      "agent-finance\n",
      "agent-youtube\n"
     ]
    }
   ],
   "source": [
    "# Submit these agents so that they are ready to be used at a later point - none of\n",
    "# these models are actually loaded in memory right now and thus no resources are wasted.\n",
    "\n",
    "print(kratos.submit(finance_agent, name=\"agent-finance\", dependencies=[\"yfinance\"]))\n",
    "print(kratos.submit(youtube_agent, name=\"agent-youtube\", dependencies=[\"youtube-transcript-api\"]))"
   ]
  },
  {
   "cell_type": "code",
   "execution_count": 3,
   "id": "30698e00",
   "metadata": {},
   "outputs": [
    {
     "name": "stdout",
     "output_type": "stream",
     "text": [
      "<think>\n",
      "Okay, the user is asking about the trend for NVIDIA stock. First, I need to figure out what exactly they mean by \"trend.\" Typically, when someone asks about a stock's trend, they're interested in its recent performance, maybe over the past few days or weeks. But since I don't have a function to get historical price data, I can only provide the current price and maybe some analyst insights.\n",
      "Wait, the tools available are get_current_stock_price, get_company_info, and get_analyst_recommendations. So I can't fetch historical data directly. But maybe I can start by getting the current price to give them a snapshot. Also, analyst recommendations might give some insight into future expectations. Additionally, company information could explain factors affecting the stock.\n",
      "But the user specifically asked about the trend, which implies a direction over time. Since I can't provide historical data, I should inform them that I can't retrieve past prices but can offer the latest price and analyst opinions. Maybe also mention the company's recent performance or any news events affecting NVIDIA. However, the available functions don't include news, so I have to stick to the provided tools.\n",
      "So first, I should check the current stock price. Then, maybe get analyst recommendations to see if there's a consensus. Also, company info might have some recent developments. But the user is asking for the trend, so perhaps I should explain that while I can't show historical data, I can provide the current price and analyst views. Let me start by calling get_current_stock_price for NVIDIA, then get_analyst_recommendations, and maybe get_company_info to gather all relevant info.\n",
      "</think>\n",
      "ToolCallStartedEvent(created_at=1752942603, event='ToolCallStarted', agent_id='e1b82407-1c42-4d73-b1f2-a0353c738eaa', agent_name='KratosFinance', run_id='d8af2b0b-61ce-4d94-a985-d5970c823d89', session_id='983e8c18-16a9-418d-a358-a06e0c1806fd', team_session_id=None, content=None, tool=ToolExecution(tool_call_id='956875318', tool_name='get_current_stock_price', tool_args={'symbol': 'NVDA'}, tool_call_error=None, result=None, metrics=None, stop_after_tool_call=False, created_at=1752942566, requires_confirmation=None, confirmed=None, confirmation_note=None, requires_user_input=None, user_input_schema=None, answered=None, external_execution_required=None))get_current_stock_price(symbol=NVDA) completed in 0.4926s.<think>\n",
      "Okay, the user asked about the trend for NVIDIA stock. I first checked the current price using the get_current_stock_price function, which returned $172.41. Now I need to provide context about the trend. Since I can't access historical data, I'll focus on the latest price and analyst insights.\n",
      "Next, I should check analyst recommendations to see if there's a positive or negative sentiment. Let me call get_analyst_recommendations for NVDA. Also, maybe get_company_info to find recent developments affecting the stock. But the user specifically wants the trend, so emphasizing the current price and analyst consensus would be best. If there's a lot of positive recommendations, that could indicate upward momentum. I'll structure the answer with the current price, analyst ratings, and maybe a brief overview from company info if available.\n",
      "</think>\n",
      "ToolCallStartedEvent(created_at=1752942610, event='ToolCallStarted', agent_id='e1b82407-1c42-4d73-b1f2-a0353c738eaa', agent_name='KratosFinance', run_id='d8af2b0b-61ce-4d94-a985-d5970c823d89', session_id='983e8c18-16a9-418d-a358-a06e0c1806fd', team_session_id=None, content=None, tool=ToolExecution(tool_call_id='294718045', tool_name='get_analyst_recommendations', tool_args={'symbol': 'NVDA'}, tool_call_error=None, result=None, metrics=None, stop_after_tool_call=False, created_at=1752942566, requires_confirmation=None, confirmed=None, confirmation_note=None, requires_user_input=None, user_input_schema=None, answered=None, external_execution_required=None))get_analyst_recommendations(symbol=NVDA) completed in 0.0817s.<think>\n",
      "Okay, let's break this down. The user asked about the trend for NVIDIA stock. I first got the current price, which is $172.41. Then I checked analyst recommendations for NVDA. The data shows that in the last 2 months, there are 12 strong buys, 44 buys, 7 holds, 1 sell, and 0 strong sells. That's a lot of positive ratings.\n",
      "So, the analyst consensus is pretty bullish. The majority of analysts are recommending NVIDIA as a strong buy or buy. That suggests confidence in the company's performance and future earnings. The current price is relatively high, but if analysts are consistently rating it positively, it might indicate upward momentum.\n",
      "I should also mention the company's sector position. NVIDIA is a leader in AI and GPU tech, which are growing fields. Maybe mention that the company's innovations in AI, autonomous vehicles, and data centers could drive future growth. However, I should note that high prices might mean some caution, but the analyst ratings are strong.\n",
      "Putting it all together: current price, analyst recommendations, and the company's position in a growing sector. That should answer the user's query about the trend.\n",
      "</think>\n",
      "The latest NVIDIA (NVDA) stock price is **$172.41**. Analyst sentiment shows strong optimism:  \n",
      "- **12 Strong Buy** ratings  \n",
      "- **44 Buy** ratings  \n",
      "- **7 Hold** ratings  \n",
      "- **1 Sell** rating  \n",
      "This indicates **positive momentum** and confidence in NVIDIA's growth potential, driven by its leadership in AI, GPU technology, and data center markets. However, the stock's high price may suggest caution for risk-averse investors. Would you like additional insights?"
     ]
    }
   ],
   "source": [
    "# The name parameter we used in submit() acts as an identifier as to which agent do you want to invoke.\n",
    "\n",
    "kratos.invoke(name=\"agent-finance\", task=\"How has the trend been for NVIDIA stock?\")"
   ]
  },
  {
   "cell_type": "code",
   "execution_count": 4,
   "id": "fd870a4c",
   "metadata": {},
   "outputs": [
    {
     "name": "stdout",
     "output_type": "stream",
     "text": [
      "<think>\n",
      "Okay, the user wants me to summarize the transcript of the YouTube video with the URL https://www.youtube.com/watch?v=dQw4w9WgXcQ. Let me figure out how to approach this.\n",
      "First, I need to get the transcript from the video. The available tools include get_youtube_video_captions, which is designed to retrieve captions from a YouTube video. The function requires the video URL, so I should call that first. Once I have the captions, I can then process them to create a summary. \n",
      "Wait, the user mentioned the transcript, so maybe the captions are in the form of a transcript. The get_youtube_video_captions function should fetch the captions, which are usually in a text format. After retrieving the captions, I can analyze the text to summarize the key points. \n",
      "But I need to make sure that the function is called correctly. The URL provided is valid, so I'll use that. Let me check the parameters for get_youtube_video_captions: it takes the video URL as a parameter. So I'll structure the tool call with that URL.\n",
      "Once I have the captions, I can then process them. However, since the user is asking for a summary, I need to extract the main ideas from the transcript. But first, I need to get the actual transcript data. So the first step is to call get_youtube_video_captions with the given URL. Then, once I have the transcript text, I can analyze it and provide a summary. \n",
      "Alternatively, maybe there's another function that can get the video data, but the user specifically asked for the transcript. So the main function here is get_youtube_video_captions. Let me proceed with that.\n",
      "</think>\n",
      "ToolCallStartedEvent(created_at=1752942664, event='ToolCallStarted', agent_id='75da8f1d-ae4c-4252-b4ff-b73588d4c291', agent_name='KratosYouTube', run_id='796ff907-efb9-4e95-8750-0768fdb9fa0b', session_id='16b2cff2-d913-459c-acd4-6c7c5f02514a', team_session_id=None, content=None, tool=ToolExecution(tool_call_id='302112058', tool_name='get_youtube_video_captions', tool_args={'url': 'https://www.youtube.com/watch?v=dQw4w9WgXcQ'}, tool_call_error=None, result=None, metrics=None, stop_after_tool_call=False, created_at=1752942625, requires_confirmation=None, confirmed=None, confirmation_note=None, requires_user_input=None, user_input_schema=None, answered=None, external_execution_required=None))get_youtube_video_captions(url=...) completed in 1.5778s.<think>\n",
      "Okay, the user provided a YouTube video URL and asked for a summary of its transcript. The first step is to retrieve the captions using the get_youtube_video_captions function. The response from that function is the transcript text, which in this case seems to be the lyrics of the song \"Never Gonna Give You Up\" by Rick Astley. \n",
      "Now, I need to analyze the transcript content. The lyrics are repetitive, with a lot of repetition of phrases like \"Never gonna give you up\" and the song's chorus. The structure of the song is typical of a pop track with verses, chorus, bridge, and outro. The lyrics express a sense of commitment and loyalty, which is the main theme of the song.\n",
      "The user might be interested in knowing that this is a well-known song, often referred to as the \"Rickroll\" due to its infamous internet meme. The summary should highlight the song's theme, structure, and cultural significance. It's important to note that the transcript is primarily musical lyrics rather than a spoken word transcript, so the analysis should reflect that. Also, mentioning the song's popularity and the phenomenon of Rickrolling would add context to the summary.\n",
      "</think>\n",
      "The transcript provided is the lyrics of the iconic song **\"Never Gonna Give You Up\"** by Rick Astley, famously known as the \"Rickroll\" internet meme. The song's structure consists of repetitive verses and a catchy chorus emphasizing loyalty and commitment, with the central theme of \"never giving up\" in both literal and metaphorical contexts. \n",
      "Key observations:\n",
      "- **Repetition**: The chorus (\"Never gonna give you up...\") is反复 (repeated) throughout the transcript, highlighting the song's memorability.\n",
      "- **Theme**: The lyrics convey a sense of steadfast dedication, though the song is also infamous for being used as a prank (\"Rickroll\").\n",
      "- **Structure**: The transcript follows a typical song structure (verse, chorus, bridge, outro) with minimal variation in the lyrics.\n",
      "- **Cultural Impact**: The song became a internet phenomenon, often used to surprise people with unexpected video content.\n",
      "The transcript is primarily musical lyrics rather than a spoken-word transcript, and the repetition of phrases underscores its role as a viral meme."
     ]
    }
   ],
   "source": [
    "kratos.invoke(name=\"agent-youtube\", task=\"Summarize the transcript of this video: https://www.youtube.com/watch?v=dQw4w9WgXcQ\")"
   ]
  },
  {
   "cell_type": "code",
   "execution_count": 5,
   "id": "3db4068a",
   "metadata": {},
   "outputs": [],
   "source": [
    "# from concurrent.futures import ThreadPoolExecutor, wait\n",
    "\n",
    "# print(f\"\\n🚀 Starting 3 concurrent invocations where each instance of an agent will have it's own model loaded in memory\")\n",
    "\n",
    "# tasks = [\n",
    "#     \"Stock price of NVIDIA\",\n",
    "#     \"Stock price of Apple\",\n",
    "#     \"Stock price of Tesla\",\n",
    "# ]\n",
    "\n",
    "# with ThreadPoolExecutor(max_workers=3) as executor:\n",
    "#     futures = [executor.submit(kratos.invoke, 'agent-finance', task, False) for task in tasks]\n",
    "\n",
    "#     print(f\"\\n🔄 Waiting for all agents to complete...\")\n",
    "#     wait(futures)\n",
    "\n",
    "#     print(f\"\\n🔄 All agents have completed their tasks\")\n",
    "\n",
    "# print(\"\\n\\nQ&A:\")"
   ]
  },
  {
   "cell_type": "code",
   "execution_count": null,
   "id": "cf5389c6",
   "metadata": {},
   "outputs": [],
   "source": []
  }
 ],
 "metadata": {
  "kernelspec": {
   "display_name": ".venv",
   "language": "python",
   "name": "python3"
  },
  "language_info": {
   "codemirror_mode": {
    "name": "ipython",
    "version": 3
   },
   "file_extension": ".py",
   "mimetype": "text/x-python",
   "name": "python",
   "nbconvert_exporter": "python",
   "pygments_lexer": "ipython3",
   "version": "3.11.12"
  }
 },
 "nbformat": 4,
 "nbformat_minor": 5
}
