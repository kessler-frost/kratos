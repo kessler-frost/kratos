{
 "cells": [
  {
   "cell_type": "code",
   "execution_count": 3,
   "id": "32c69722",
   "metadata": {},
   "outputs": [],
   "source": [
    "import kratos\n",
    "from agno.agent import Agent\n",
    "from agno.models.lmstudio import LMStudio\n",
    "from agno.tools.youtube import YouTubeTools\n",
    "from agno.tools.yfinance import YFinanceTools\n",
    "\n",
    "# Creating a few agents using the Agno framework for building agents\n",
    "# All the llm models here use LMStudio as the provider and connect to local API server\n",
    "# I'm using qwen/qwen3-4b model for both agents, but you can use any other model that you have access to.\n",
    "\n",
    "finance_agent = Agent(\n",
    "    model=LMStudio(\n",
    "        id=\"qwen/qwen3-4b\",\n",
    "        base_url=\"http://host.docker.internal:1234/v1\",\n",
    "    ),\n",
    "    name=\"KratosFinance\",\n",
    "    tools=[YFinanceTools(stock_price=True, analyst_recommendations=True, company_info=True)],\n",
    "    instructions=\"You are Kratos Finance Agent, specialized in stock market analysis and financial data. Use YFinance to get current stock prices, analyst recommendations, and company information. When users ask about stocks, always provide current prices and relevant financial metrics. Be precise with numbers and explain what the data means for investment decisions.\",\n",
    ")\n",
    "\n",
    "\n",
    "youtube_agent = Agent(\n",
    "    model=LMStudio(\n",
    "        id=\"qwen/qwen3-4b\",\n",
    "        base_url=\"http://host.docker.internal:1234/v1\",\n",
    "    ),\n",
    "    name=\"KratosYouTube\",\n",
    "    tools=[YouTubeTools()],\n",
    "    instructions=\"You are Kratos YouTube Agent, specialized in analyzing YouTube videos and transcripts. Use YouTube tools to extract video information, transcripts, and analyze content. When users mention YouTube videos, provide detailed analysis of the content, key points, and insights from the transcript. Be thorough in your analysis and highlight important information.\",\n",
    ")\n"
   ]
  },
  {
   "cell_type": "code",
   "execution_count": 2,
   "id": "829090fc",
   "metadata": {},
   "outputs": [
    {
     "name": "stdout",
     "output_type": "stream",
     "text": [
      "agent-finance\n",
      "agent-youtube\n"
     ]
    }
   ],
   "source": [
    "# Submit these agents so that they are ready to be used at a later point - none of\n",
    "# these models are actually loaded in memory right now and thus no resources are wasted.\n",
    "\n",
    "print(kratos.submit(finance_agent, name=\"agent-finance\", dependencies=[\"yfinance\"]))\n",
    "print(kratos.submit(youtube_agent, name=\"agent-youtube\", dependencies=[\"youtube-transcript-api\"]))"
   ]
  },
  {
   "cell_type": "code",
   "execution_count": 3,
   "id": "30698e00",
   "metadata": {},
   "outputs": [
    {
     "name": "stdout",
     "output_type": "stream",
     "text": [
      "<think>\n",
      "Okay, the user is asking about the trend for NVIDIA stock. To answer this, I need to figure out what data points are relevant. First, the current stock price would be a good starting point. So I should call the get_current_stock_price function with the symbol NVDA.\n",
      "But wait, the user is asking about the trend, not just the current price. Maybe they want to know if the stock has been going up or down recently. However, the available functions don't include historical price data. The tools provided are for current price, company info, and analyst recommendations. \n",
      "So I can't get historical trends directly. But perhaps I can check the current price and maybe analyst recommendations to give some context. Let me start by getting the current price. Then, if there's analyst sentiment, that could influence the trend. Also, company info might have recent news or developments affecting the stock.\n",
      "Wait, the user might be expecting a summary of recent performance. Since I can't retrieve historical data, maybe I should mention that the current price is X, and then check analyst ratings. Maybe there's a consensus on whether the stock is overvalued or undervalued. Also, maybe check if the company has any recent news that's affected the stock price.\n",
      "But according to the tools provided, I can only get current price, company info, and analyst recommendations. So I should first get the current price, then check analyst ratings, and maybe the company's overview for any recent developments. That should give a comprehensive answer even without historical data.\n",
      "</think>\n",
      "ToolCallStartedEvent(created_at=1752236713, event='ToolCallStarted', agent_id='28ac0a8e-813f-406f-81cf-fed3dc6867b8', agent_name='KratosFinance', run_id='ee005c5f-c715-4cf6-93bc-1f0975beb6be', session_id='99b4f495-fe00-4b9a-ac58-b066df74dfe6', team_session_id=None, content=None, tool=ToolExecution(tool_call_id='634461005', tool_name='get_current_stock_price', tool_args={'symbol': 'NVDA'}, tool_call_error=None, result=None, metrics=None, stop_after_tool_call=False, created_at=1752236702, requires_confirmation=None, confirmed=None, confirmation_note=None, requires_user_input=None, user_input_schema=None, answered=None, external_execution_required=None))get_current_stock_price(symbol=NVDA) completed in 0.6937s.<think>\n",
      "Okay, the user asked about the trend for NVIDIA stock. I first called the get_current_stock_price function and got a price of $164.10. Now I need to provide context around this price and the stock's performance.\n",
      "Since the tools don't include historical data, I can't give a detailed trend analysis. But I can check analyst recommendations and company info to infer potential directions. Let me call get_analyst_recommendations for NVDA to see recent ratings.\n",
      "Also, the user might want to know if the stock is currently rising or falling. Since I can't access historical prices, I should mention that the current price is $164.10 and note that without historical data, I can't confirm a trend. However, analyst opinions and company news could influence the stock's direction.\n",
      "I should also check if there's any recent news from the company that might affect the stock. So, I'll call get_company_info for NVDA to get the latest overview. This will help me provide a more complete answer, even without historical price data.\n",
      "</think>\n",
      "ToolCallStartedEvent(created_at=1752236717, event='ToolCallStarted', agent_id='28ac0a8e-813f-406f-81cf-fed3dc6867b8', agent_name='KratosFinance', run_id='ee005c5f-c715-4cf6-93bc-1f0975beb6be', session_id='99b4f495-fe00-4b9a-ac58-b066df74dfe6', team_session_id=None, content=None, tool=ToolExecution(tool_call_id='679196978', tool_name='get_analyst_recommendations', tool_args={'symbol': 'NVDA'}, tool_call_error=None, result=None, metrics=None, stop_after_tool_call=False, created_at=1752236702, requires_confirmation=None, confirmed=None, confirmation_note=None, requires_user_input=None, user_input_schema=None, answered=None, external_execution_required=None))get_analyst_recommendations(symbol=NVDA) completed in 0.0660s.<think>\n",
      "Okay, the user asked about the trend for NVIDIA stock. I first got the current price of $164.10. Then I checked analyst recommendations and saw that for the last 2 months, there's a mix of strong buy, buy, hold, sell ratings. The latest month (0m) has 12 strong buys, 46 buys, etc. The previous month (-1m) has similar numbers, and the month before that (-2m) also shows a positive sentiment but with some sells.\n",
      "Now, I need to interpret this data. The analyst ratings over the last two months show a majority of \"strong buy\" and \"buy\" ratings, which suggests positive sentiment. However, there are some \"hold\" and \"sell\" ratings, but they're fewer. This could indicate that analysts generally think NVDA is a good investment but with some caution.\n",
      "But wait, the user is asking about the stock's trend, not just analyst ratings. Since I can't provide historical price data, I should mention that the current price is $164.10 and that analyst sentiment is positive but not unanimous. Also, the company's recent performance might be driven by factors like AI advancements or semiconductor demand. Maybe I should check the company's info to see if there are any recent developments.\n",
      "So, I'll call get_company_info for NVDA to get the latest overview, which might include recent news or earnings reports that could explain the stock's direction. That way, I can give a more comprehensive answer, combining current price, analyst ratings, and company news.\n",
      "</think>\n",
      "ToolCallStartedEvent(created_at=1752236721, event='ToolCallStarted', agent_id='28ac0a8e-813f-406f-81cf-fed3dc6867b8', agent_name='KratosFinance', run_id='ee005c5f-c715-4cf6-93bc-1f0975beb6be', session_id='99b4f495-fe00-4b9a-ac58-b066df74dfe6', team_session_id=None, content=None, tool=ToolExecution(tool_call_id='961428864', tool_name='get_company_info', tool_args={'symbol': 'NVDA'}, tool_call_error=None, result=None, metrics=None, stop_after_tool_call=False, created_at=1752236702, requires_confirmation=None, confirmed=None, confirmation_note=None, requires_user_input=None, user_input_schema=None, answered=None, external_execution_required=None))get_company_info(symbol=NVDA) completed in 0.1232s.<think>\n",
      "Okay, the user asked about the trend for NVIDIA stock. Let me start by summarizing the data I have.\n",
      "First, the current stock price is $164.10, which is slightly above the 52-week high of $164.50. That's a very tight range, so the stock is near its peak. The 50-day moving average is $138.41, and the 200-day is $130.93. The stock is above both, indicating it's in a bullish phase relative to these averages.\n",
      "Looking at the analyst recommendations, there are 57 analyst opinions, with a strong buy rating. The recent analyst data shows a mix of strong buys and buys, but the latest month (0m) has 12 strong buys and 46 buys, which is positive. However, there's a small number of holds and sells, but they're not dominant.\n",
      "The company's market cap is over $4 trillion, which is massive. The P/E ratio is 52.94, which is high but not unreasonable for a tech stock, especially in the AI and semiconductor sectors. The EPS is $3.1, which is decent.\n",
      "The 52-week low is $86.62, so the stock has had a significant rise from there. The revenue growth is 69.2%, which is strong, and the gross margins are 70.1%, indicating high profitability. EBITDA margins are 59.42%, which is also very healthy.\n",
      "So, putting this together: the stock is near its highest point, with strong analyst sentiment. The company is in a high-growth sector (AI, semiconductors), with solid financials. However, being near the 52-week high might mean some caution if the market is overvalued. The analyst recommendations are mostly positive, but the stock's price isn't going up much from the 52-week high, so maybe there's a pullback possibility. But overall, the stock seems to be in a strong position with good fundamentals and positive analyst views.\n",
      "</think>\n",
      "NVIDIA (NVDA) currently trades at **$164.10**, which is **$0.40 above its 52-week high** of $164.50. Here's the key trend analysis:\n",
      "### **Price Performance**\n",
      "- **52-Week Range**: $86.62 (low) to $164.50 (high)\n",
      "- **50-Day Moving Average**: $138.41 (stock is above average)\n",
      "- **200-Day Moving Average**: $130.93 (stock is above average)\n",
      "- **Recent Price Action**: The stock has been closely trading near its 52-week high, suggesting **strong bullish momentum** but with potential for consolidation.\n",
      "### **Analyst Sentiment**\n",
      "- **Strong Buy**: 12 analysts\n",
      "- **Buy**: 46 analysts\n",
      "- **Hold**: 7 analysts\n",
      "- **Sell**: 1 analyst\n",
      "- **Strong Sell**: 0 analysts\n",
      "- **Overall Sentiment**: **Bullish** (most ratings are \"Strong Buy\" or \"Buy\")\n",
      "### **Key Metrics**\n",
      "- **P/E Ratio**: 52.94 (high but reasonable for a tech leader in AI/semiconductors)\n",
      "- **Revenue Growth**: 69.2% (robust growth in data centers and AI)\n",
      "- **Gross Margins**: 70.1% (high profitability)\n",
      "- **EBITDA Margins**: 59.42% (strong operational efficiency)\n",
      "### **Investment Outlook**\n",
      "- **Bullish Case**: Strong analyst ratings, high revenue growth, and leadership in AI/semiconductor markets.\n",
      "- **Cautions**: The stock is near its 52-week high, and a pullback could occur if market sentiment shifts. However, the company’s dominant position in AI and data centers suggests long-term growth potential.\n",
      "**Conclusion**: NVIDIA is in a **strong bullish phase** with solid fundamentals and positive analyst sentiment. However, investors should monitor price momentum and macroeconomic factors affecting tech stocks."
     ]
    }
   ],
   "source": [
    "# The name parameter we used in submit() acts as an identifier as to which agent do you want to invoke.\n",
    "\n",
    "kratos.invoke(name=\"agent-finance\", task=\"How has the trend been for NVIDIA stock?\")"
   ]
  },
  {
   "cell_type": "code",
   "execution_count": 6,
   "id": "fd870a4c",
   "metadata": {},
   "outputs": [
    {
     "name": "stdout",
     "output_type": "stream",
     "text": [
      "<think>\n",
      "Okay, the user wants me to summarize the transcript of the YouTube video with the URL https://www.youtube.com/watch?v=dQw4w9WgXcQ. First, I need to get the transcript from that video. Looking at the tools provided, there's a function called get_youtube_video_captions which requires the video URL. So I should call that function first to retrieve the captions.\n",
      "Once I have the transcript, I can proceed to summarize it. But wait, the user might also want timestamps if needed, but the main request is a summary. However, I should check if the transcript is available. The video URL provided is for the Rickroll classic, which is well-known. I remember that this video is a famous joke, so the transcript might be straightforward.\n",
      "But to follow the steps properly, I need to first get the captions using the get_youtube_video_captions function. Then, once I have the transcript text, I can analyze it and provide a summary. The user didn't mention anything about timestamps, so maybe the summary is enough. However, I should make sure to use the correct functions as per the tools given.\n",
      "So the first step is to call get_youtube_video_captions with the provided URL. Then, after getting the captions, I can process them into a summary. If there's a need for timestamps, maybe use get_video_timestamps, but the user hasn't asked for that. The main task is the summary, so after getting the transcript, I can analyze it and present the key points.\n",
      "</think>\n",
      "ToolCallStartedEvent(created_at=1752236795, event='ToolCallStarted', agent_id='9c565608-5a2d-4d8b-ae2f-84cd13f8a105', agent_name='KratosYouTube', run_id='eda8e114-a7d7-4994-8552-36d5eb332389', session_id='e781e2b8-55f0-4de0-8ac8-89aca9f8a510', team_session_id=None, content=None, tool=ToolExecution(tool_call_id='715975046', tool_name='get_youtube_video_captions', tool_args={'url': 'https://www.youtube.com/watch?v=dQw4w9WgXcQ'}, tool_call_error=None, result=None, metrics=None, stop_after_tool_call=False, created_at=1752236788, requires_confirmation=None, confirmed=None, confirmation_note=None, requires_user_input=None, user_input_schema=None, answered=None, external_execution_required=None))get_youtube_video_captions(url=...) completed in 1.2267s.<think>\n",
      "Okay, the user asked for a summary of the transcript from the YouTube video provided. The video URL is the Rickroll classic, which is known for being a looped song. The transcript provided is the lyrics of the song \"Never Gonna Give You Up\" by Rick Astley, which is part of the internet's most famous viral video.\n",
      "First, I need to analyze the transcript content. The lyrics are a parody of the song \"Never Gonna Give You Up,\" which is actually a real song by Rick Astley. The transcript here seems to be the lyrics of the song, but since the video is a looped version, the transcript would repeat the same lyrics over and over again. \n",
      "The key points here are that the video is a well-known internet meme, often used to trick people into watching a looping video. The song's lyrics are a direct copy of the original song, but since the video is a loop, the transcript would just be the lyrics repeated indefinitely. \n",
      "The user's request is to summarize the transcript. The main content of the transcript is the lyrics of the song, which are a parody or a reference to the original song. The summary should mention that the transcript is the lyrics of the song \"Never Gonna Give You Up,\" which is part of a viral YouTube video known for being a loop. The song's lyrics are repeated in the transcript, highlighting the infinite looping nature of the video. \n",
      "I should also note that the video is a classic example of an internet meme, often used to test if someone can resist clicking on a link. The summary should capture that context as well. So, putting it all together, the summary would explain that the transcript is the lyrics of the song, which is part of a famous looping YouTube video, and mention the meme's significance.\n",
      "</think>\n",
      "The transcript provided is the lyrics of the song **\"Never Gonna Give You Up\"** by Rick Astley, which is part of the infamous **Rickroll** YouTube video. The song is a parodic remix of the original 1987 hit, featuring repeated lines like *\"Never gonna give you up, never gonna let you down...\"* The transcript repeats the lyrics infinitely, reflecting the video's looping nature. \n",
      "### Key Insights:\n",
      "1. **Viral Meme**: The video is a classic example of the \"Rickroll\" meme, designed to trick viewers into watching a looping, unending song.\n",
      "2. **Lyrics Analysis**: The transcript mirrors the original song's structure but is often misused as a joke or prank. The lyrics emphasize perseverance and commitment, though in this context, they are part of a humorous, endless loop.\n",
      "3. **Context**: The video became iconic for its absurdity, with viewers often reacting in disbelief after clicking the link. The transcript's repetition underscores the video's design to create confusion or humor.\n",
      "The transcript itself is a looped version of the song's lyrics, highlighting the video's role as a cultural phenomenon."
     ]
    }
   ],
   "source": [
    "kratos.invoke(name=\"agent-youtube\", task=\"Summarize the transcript of this video: https://www.youtube.com/watch?v=dQw4w9WgXcQ\")"
   ]
  },
  {
   "cell_type": "code",
   "execution_count": 4,
   "id": "3db4068a",
   "metadata": {},
   "outputs": [
    {
     "name": "stdout",
     "output_type": "stream",
     "text": [
      "\n",
      "🚀 Starting 3 concurrent invocations where each instance of an agent will have it's own model loaded in memory\n",
      "\n",
      "🔄 Waiting for all agents to complete...\n",
      "\n",
      "🔄 All agents have completed their tasks\n",
      "\n",
      "\n",
      "Q&A:\n"
     ]
    }
   ],
   "source": [
    "from concurrent.futures import ThreadPoolExecutor, wait\n",
    "\n",
    "print(f\"\\n🚀 Starting 3 concurrent invocations where each instance of an agent will have it's own model loaded in memory\")\n",
    "\n",
    "tasks = [\n",
    "    \"Stock price of NVIDIA\",\n",
    "    \"Stock price of Apple\",\n",
    "    \"Stock price of Tesla\",\n",
    "]\n",
    "\n",
    "with ThreadPoolExecutor(max_workers=3) as executor:\n",
    "    futures = [executor.submit(kratos.invoke, 'agent-finance', task, False) for task in tasks]\n",
    "\n",
    "    print(f\"\\n🔄 Waiting for all agents to complete...\")\n",
    "    wait(futures)\n",
    "\n",
    "    print(f\"\\n🔄 All agents have completed their tasks\")\n",
    "\n",
    "print(\"\\n\\nQ&A:\")"
   ]
  },
  {
   "cell_type": "code",
   "execution_count": null,
   "id": "cf5389c6",
   "metadata": {},
   "outputs": [],
   "source": []
  }
 ],
 "metadata": {
  "kernelspec": {
   "display_name": ".venv",
   "language": "python",
   "name": "python3"
  },
  "language_info": {
   "codemirror_mode": {
    "name": "ipython",
    "version": 3
   },
   "file_extension": ".py",
   "mimetype": "text/x-python",
   "name": "python",
   "nbconvert_exporter": "python",
   "pygments_lexer": "ipython3",
   "version": "3.11.5"
  }
 },
 "nbformat": 4,
 "nbformat_minor": 5
}
