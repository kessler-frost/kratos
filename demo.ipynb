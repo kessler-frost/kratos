{
 "cells": [
  {
   "cell_type": "code",
   "execution_count": null,
   "id": "32c69722",
   "metadata": {},
   "outputs": [],
   "source": [
    "import kratos\n",
    "from concurrent.futures import ThreadPoolExecutor, wait\n",
    "from agno.agent import Agent\n",
    "from agno.models.lmstudio import LMStudio\n",
    "from agno.tools.youtube import YouTubeTools\n",
    "from agno.tools.yfinance import YFinanceTools\n",
    "from agno.tools.duckduckgo import DuckDuckGoTools\n",
    "from functools import partial\n",
    "\n",
    "# Creating a few agents using the Agno framework for building agents\n",
    "# All the llm models here use LMStudio as the provider and connect to local API server\n",
    "\n",
    "web_agent = Agent(\n",
    "    model=LMStudio(\n",
    "        id=\"deepseek/deepseek-r1-0528-qwen3-8b\",\n",
    "        base_url=\"http://host.docker.internal:1234/v1\",\n",
    "    ),\n",
    "    name=\"KratosWebSearch\",\n",
    "    tools=[DuckDuckGoTools()],\n",
    "    instructions=\"You are Kratos Web Search Agent, specialized in finding current information from the web. Use DuckDuckGo to search for the latest news, facts, and information. Always provide up-to-date and accurate information from reliable sources. Be concise and focus on delivering the most relevant search results.\",\n",
    "    show_tool_calls=False,\n",
    ")\n",
    "web_agent_partial = partial(kratos.submit, web_agent, \"KratosWebSearch\", dependencies=[\"ddgs\", \"duckduckgo-search\"])\n",
    "\n",
    "\n",
    "finance_agent = Agent(\n",
    "    model=LMStudio(\n",
    "        id=\"mlx-community/Llama-3.2-3B-Instruct-4bit\",\n",
    "        base_url=\"http://host.docker.internal:1234/v1\",\n",
    "    ),\n",
    "    name=\"KratosFinance\",\n",
    "    tools=[YFinanceTools(stock_price=True, analyst_recommendations=True, company_info=True)],\n",
    "    instructions=\"You are Kratos Finance Agent, specialized in stock market analysis and financial data. Use YFinance to get current stock prices, analyst recommendations, and company information. When users ask about stocks, always provide current prices and relevant financial metrics. Be precise with numbers and explain what the data means for investment decisions.\",\n",
    "    show_tool_calls=False,\n",
    ")\n",
    "finance_agent_partial = partial(kratos.submit, finance_agent, \"KratosFinance\", dependencies=[\"yfinance\"])\n",
    "\n",
    "\n",
    "youtube_agent = Agent(\n",
    "    model=LMStudio(\n",
    "        id=\"qwen/qwen3-4b\",\n",
    "        base_url=\"http://host.docker.internal:1234/v1\",\n",
    "    ),\n",
    "    name=\"KratosYouTube\",\n",
    "    tools=[YouTubeTools()],\n",
    "    instructions=\"You are Kratos YouTube Agent, specialized in analyzing YouTube videos and transcripts. Use YouTube tools to extract video information, transcripts, and analyze content. When users mention YouTube videos, provide detailed analysis of the content, key points, and insights from the transcript. Be thorough in your analysis and highlight important information.\",\n",
    "    show_tool_calls=False,\n",
    ")\n",
    "youtube_agent_partial = partial(kratos.submit, youtube_agent, \"KratosYouTube\", dependencies=[\"youtube-transcript-api\"])"
   ]
  },
  {
   "cell_type": "code",
   "execution_count": null,
   "id": "829090fc",
   "metadata": {},
   "outputs": [],
   "source": [
    "# Submit these agents so that they are ready to be used at a later point - none of\n",
    "# these models are actually loaded in memory right now and thus no resources are wasted.\n",
    "with ThreadPoolExecutor(max_workers=3) as executor:\n",
    "    print(\"Submitting agents...\")\n",
    "    futures = [\n",
    "        executor.submit(agent_partial)\n",
    "        for agent_partial in [web_agent_partial, finance_agent_partial, youtube_agent_partial]\n",
    "    ]\n",
    "\n",
    "    wait(futures)\n",
    "    print(\"Agents submitted and are ready to be invoked!\")"
   ]
  },
  {
   "cell_type": "code",
   "execution_count": null,
   "id": "30698e00",
   "metadata": {},
   "outputs": [],
   "source": []
  },
  {
   "cell_type": "code",
   "execution_count": null,
   "id": "fd870a4c",
   "metadata": {},
   "outputs": [],
   "source": []
  },
  {
   "cell_type": "code",
   "execution_count": null,
   "id": "3db4068a",
   "metadata": {},
   "outputs": [],
   "source": []
  }
 ],
 "metadata": {
  "kernelspec": {
   "display_name": ".venv",
   "language": "python",
   "name": "python3"
  },
  "language_info": {
   "name": "python",
   "version": "3.11.5"
  }
 },
 "nbformat": 4,
 "nbformat_minor": 5
}
