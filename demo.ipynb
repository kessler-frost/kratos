{
 "cells": [
  {
   "cell_type": "code",
   "execution_count": 1,
   "id": "32c69722",
   "metadata": {},
   "outputs": [],
   "source": [
    "import kratos\n",
    "from agno.agent import Agent\n",
    "from agno.models.lmstudio import LMStudio\n",
    "from agno.tools.youtube import YouTubeTools\n",
    "from agno.tools.yfinance import YFinanceTools\n",
    "\n",
    "# Creating a few agents using the Agno framework for building agents\n",
    "# All the llm models here use LMStudio as the provider and connect to local API server\n",
    "# I'm using qwen/qwen3-4b model for both agents, but you can use any other model that you have access to.\n",
    "\n",
    "finance_agent = Agent(\n",
    "    model=LMStudio(\n",
    "        id=\"qwen/qwen3-4b\",\n",
    "        base_url=\"http://host.docker.internal:1234/v1\",\n",
    "    ),\n",
    "    name=\"KratosFinance\",\n",
    "    tools=[YFinanceTools(stock_price=True, analyst_recommendations=True, company_info=True)],\n",
    "    instructions=\"You are Kratos Finance Agent, specialized in stock market analysis and financial data. Use YFinance to get current stock prices, analyst recommendations, and company information. When users ask about stocks, always provide current prices and relevant financial metrics. Be precise with numbers and explain what the data means for investment decisions.\",\n",
    ")\n",
    "\n",
    "\n",
    "youtube_agent = Agent(\n",
    "    model=LMStudio(\n",
    "        id=\"qwen/qwen3-4b\",\n",
    "        base_url=\"http://host.docker.internal:1234/v1\",\n",
    "    ),\n",
    "    name=\"KratosYouTube\",\n",
    "    tools=[YouTubeTools()],\n",
    "    instructions=\"You are Kratos YouTube Agent, specialized in analyzing YouTube videos and transcripts. Use YouTube tools to extract video information, transcripts, and analyze content. When users mention YouTube videos, provide detailed analysis of the content, key points, and insights from the transcript. Be thorough in your analysis and highlight important information.\",\n",
    ")\n"
   ]
  },
  {
   "cell_type": "code",
   "execution_count": 2,
   "id": "829090fc",
   "metadata": {},
   "outputs": [
    {
     "name": "stdout",
     "output_type": "stream",
     "text": [
      "agent-finance\n",
      "agent-youtube\n"
     ]
    }
   ],
   "source": [
    "# Submit these agents so that they are ready to be used at a later point - none of\n",
    "# these models are actually loaded in memory right now and thus no resources are wasted.\n",
    "\n",
    "print(kratos.submit(finance_agent, name=\"agent-finance\", dependencies=[\"yfinance\"]))\n",
    "print(kratos.submit(youtube_agent, name=\"agent-youtube\", dependencies=[\"youtube-transcript-api\"]))"
   ]
  },
  {
   "cell_type": "code",
   "execution_count": 3,
   "id": "30698e00",
   "metadata": {},
   "outputs": [
    {
     "name": "stdout",
     "output_type": "stream",
     "text": [
      "<think>\n",
      "Okay, the user is asking about the trend for NVIDIA's stock. Let me figure out how to approach this.\n",
      "First, I need to determine what information is required. The user wants to know the trend, which likely involves recent performance, price movements, and maybe analyst opinions. \n",
      "I should start by getting the current stock price for NVIDIA. The function get_current_stock_price is needed here. The symbol for NVIDIA is NVDA. So I'll call that function to get the latest price.\n",
      "Next, to understand the trend, I might need historical data, but since the available functions don't include historical data retrieval, I can only provide the current price. However, the user might also want to know analyst recommendations. So I should check the analyst opinions using get_analyst_recommendations. \n",
      "Additionally, company information could provide context about NVIDIA's performance and future outlook. So using get_company_info might help explain the current situation. \n",
      "Wait, but the user specifically asked for the trend. The functions available are limited. So maybe I should first get the current price, then analyst recommendations, and perhaps the company info to give a comprehensive answer. \n",
      "I need to make sure I use the correct symbols. NVIDIA's stock symbol is NVDA. So all function calls will use \"NVDA\" as the symbol. \n",
      "So, first call get_current_stock_price with symbol NVDA. Then get_analyst_recommendations for NVDA. Maybe also get_company_info to get an overview. \n",
      "But the user is asking about the trend, so maybe the current price and analyst ratings are the key points. The company info might provide background on the company's performance, which could influence the stock trend. \n",
      "I should structure the response by first providing the current price, then analyst recommendations (like buy/sell ratings), and maybe some company info to explain the context. \n",
      "So the steps are: get current price, get analyst recs, get company info. Then present all that to answer the user's question about the trend.\n",
      "</think>\n",
      "ToolCallStartedEvent(created_at=1752224056, event='ToolCallStarted', agent_id='c7a784d0-7447-4da7-ab62-a4d35b3c1329', agent_name='KratosFinance', run_id='c7d4be15-5591-4ee8-91b9-1aaaf167f8f9', session_id='5afdc3c3-fd30-4783-913e-0d6d89be6b1d', team_session_id=None, content=None, tool=ToolExecution(tool_call_id='684093359', tool_name='get_current_stock_price', tool_args={'symbol': 'NVDA'}, tool_call_error=None, result=None, metrics=None, stop_after_tool_call=False, created_at=1752224046, requires_confirmation=None, confirmed=None, confirmation_note=None, requires_user_input=None, user_input_schema=None, answered=None, external_execution_required=None))get_current_stock_price(symbol=NVDA) completed in 0.6525s.<think>\n",
      "Okay, the user asked about the trend for NVIDIA stock. I first called the get_current_stock_price function with symbol NVDA and got a price of $164.10. Now I need to check if there's more data needed.\n",
      "The user might want to know not just the current price but also how it's performing over time. But since the tools available don't include historical data, I can only provide the current price. However, I should also check analyst recommendations and company info for context.\n",
      "Next, I'll call get_analyst_recommendations for NVDA to see what analysts are saying. Then, maybe get_company_info to understand the company's position in the market. But wait, the user's question is about the trend, so maybe they're interested in recent performance. Since I can't fetch historical data, I'll have to rely on the current price and analyst opinions. \n",
      "I should also mention that without historical data, I can't analyze past trends, but the current price and analyst ratings can give some insight. Let me check the analyst recommendations next.\n",
      "ToolCallStartedEvent(created_at=1752224059, event='ToolCallStarted', agent_id='c7a784d0-7447-4da7-ab62-a4d35b3c1329', agent_name='KratosFinance', run_id='c7d4be15-5591-4ee8-91b9-1aaaf167f8f9', session_id='5afdc3c3-fd30-4783-913e-0d6d89be6b1d', team_session_id=None, content=None, tool=ToolExecution(tool_call_id='339230684', tool_name='get_analyst_recommendations', tool_args={'symbol': 'NVDA'}, tool_call_error=None, result=None, metrics=None, stop_after_tool_call=False, created_at=1752224046, requires_confirmation=None, confirmed=None, confirmation_note=None, requires_user_input=None, user_input_schema=None, answered=None, external_execution_required=None))get_analyst_recommendations(symbol=NVDA) completed in 0.0512s.<think>\n",
      "Okay, the user is asking about the trend for NVIDIA stock. I already got the current price of $164.10 and the analyst recommendations. Let me process that data.\n",
      "The analyst recommendations show that for the last 0m, -1m, and -2m periods, there are a lot of \"Buy\" ratings. Specifically, in the last month (0m), there are 46 Buy ratings, 12 Strong Buy, and 7 Hold. For the previous month (-1m), it's similar with 45 Buy, 12 Strong Buy, and 6 Hold. Two months back (-2m), it's 44 Buy, 12 Strong Buy, and 7 Hold. The sell ratings are minimal, just 1 in each case.\n",
      "So, the analysts are generally positive about NVIDIA. The high number of Buy and Strong Buy ratings indicates that most analysts recommend the stock, which suggests a positive trend. The low number of Sell ratings means there's little negative sentiment.\n",
      "But wait, the user asked about the trend. The current price is $164.10, which is a recent figure. However, without historical price data, I can't analyze the trend over time. The analyst recommendations do show a positive sentiment, which might indicate that the stock is expected to perform well. But I should also mention that the actual trend would depend on various factors beyond just analyst opinions.\n",
      "I need to present this information clearly. Start with the current price, then the analyst ratings, and explain what these numbers mean for investment decisions. Also, note that while the analysts are optimistic, the actual trend would require looking at historical price movements, which I can't provide here. Maybe suggest checking a chart for more details.\n",
      "</think>\n",
      "The current stock price for NVIDIA (NVDA) is **$164.10**. Analysts普遍 recommend the stock with strong positive sentiment:\n",
      "- **Recent analyst ratings (last 2 months)**:\n",
      "  - **Strong Buy**: 12 ratings (across all timeframes)\n",
      "  - **Buy**: 46–45 ratings (last month) / 44 (two months ago)\n",
      "  - **Hold**: 7–6 ratings\n",
      "  - **Sell**: 1 rating (across all timeframes)\n",
      "  - **Strong Sell**: 0 ratings\n",
      "This indicates **high confidence** in NVIDIA's performance, with most analysts advising \"Buy\" or \"Strong Buy.\" However, **no historical price data** is available to analyze long-term trends. For investment decisions, focus on:\n",
      "1. **Current price** ($164.10)\n",
      "2. **Analyst sentiment** (strongly positive)\n",
      "3. **Company fundamentals** (e.g., AI/graphics card dominance, revenue growth)\n",
      "For deeper trend analysis, consult a stock chart or historical price data source. Would you like me to check NVIDIA's company overview?"
     ]
    }
   ],
   "source": [
    "# The name parameter we used in submit() acts as an identifier as to which agent do you want to invoke.\n",
    "\n",
    "kratos.invoke(name=\"agent-finance\", task=\"How has the trend been for NVIDIA stock?\")"
   ]
  },
  {
   "cell_type": "code",
   "execution_count": 6,
   "id": "fd870a4c",
   "metadata": {},
   "outputs": [
    {
     "name": "stdout",
     "output_type": "stream",
     "text": [
      "<think>\n",
      "Okay, the user wants a summary of the YouTube video with the URL https://www.youtube.com/watch?v=dQw4w9WgXcQ. Let me figure out how to approach this.\n",
      "First, I need to use the tools provided. The available functions are get_youtube_video_captions, get_youtube_video_data, and get_video_timestamps. The user is asking for a summary, which likely involves the video's content. So, I should start by getting the captions since they contain the transcript text. \n",
      "But wait, maybe I should check the video data first to get details like title and author, which could be part of the summary. However, the main content for a summary would probably come from the captions. So I'll need to call get_youtube_video_captions with the provided URL. Once I have the captions, I can analyze them to extract key points and create a summary. \n",
      "Alternatively, maybe get_video_timestamps could help in structuring the timeline of the video, but the user hasn't specified a particular aspect beyond the summary. The main goal is to get the content summary, so captions are the way to go. \n",
      "I should make sure to call the get_youtube_video_captions function first. Let me structure the tool call with the URL provided.\n",
      "</think>\n",
      "ToolCallStartedEvent(created_at=1752224202, event='ToolCallStarted', agent_id='35e61db1-5e63-4207-8176-5b1b5dd343ea', agent_name='KratosYouTube', run_id='829ad0ab-1d46-431f-b9e9-287106d1cd9c', session_id='cccf65ba-e0ed-4c58-80cc-cb0bf82cedbc', team_session_id=None, content=None, tool=ToolExecution(tool_call_id='936707102', tool_name='get_youtube_video_captions', tool_args={'url': 'https://www.youtube.com/watch?v=dQw4w9WgXcQ'}, tool_call_error=None, result=None, metrics=None, stop_after_tool_call=False, created_at=1752224195, requires_confirmation=None, confirmed=None, confirmation_note=None, requires_user_input=None, user_input_schema=None, answered=None, external_execution_required=None))get_youtube_video_captions(url=...) completed in 1.2341s.<think>\n",
      "Okay, the user asked for a summary of the YouTube video with the URL provided. I used the get_youtube_video_captions function to fetch the transcript. The captions seem to be the lyrics of the song \"Never Gonna Give You Up\" by Rick Astley. The video is likely a parody or meme video featuring the iconic song, possibly in a comedic or absurd context. The lyrics are repeated multiple times, which is typical for the song's structure. The summary should mention that the video contains the lyrics of the song, which is part of a popular internet meme. The video might be using the song in a humorous or exaggerated way, given the context of YouTube videos often featuring memes or viral content. I need to highlight that the content is the song's lyrics, its cultural significance, and possible context in which it's used.\n",
      "</think>\n",
      "The YouTube video at https://www.youtube.com/watch?v=dQw4w9WgXcQ is a **parody or meme video** featuring the iconic Rick Astley song *\"Never Gonna Give You Up\"*. The captions include the full lyrics of the song, which is part of a viral internet meme known for its absurdity and cultural significance. \n",
      "### Key Insights:\n",
      "1. **Content**: The video likely uses the song in a humorous or exaggerated context, typical of meme culture. The repeated lyrics suggest a comedic or surreal scenario.\n",
      "2. **Cultural Context**: The song itself is famous for being a \"viral sensation\" in the 1990s, but its lyrics have been repurposed in internet memes (e.g., the \"Never Gonna Give You Up\" meme, where people say the lyrics in ridiculous situations).\n",
      "3. **Purpose**: The video may aim to humorously highlight the song's absurdity or showcase its internet-famous status through exaggerated performance or context.\n",
      "The video’s captions emphasize the song’s timeless humor and its place in internet culture. Let me know if you'd like further analysis! 🎵"
     ]
    }
   ],
   "source": [
    "kratos.invoke(name=\"agent-youtube\", task=\"Get me a summary of this video: https://www.youtube.com/watch?v=dQw4w9WgXcQ\")"
   ]
  },
  {
   "cell_type": "code",
   "execution_count": null,
   "id": "3db4068a",
   "metadata": {},
   "outputs": [
    {
     "name": "stdout",
     "output_type": "stream",
     "text": [
      "\n",
      "🚀 Starting 3 concurrent invocations where each instance of an agent, will have it's own model loaded in memory\n",
      "\n",
      "🔄 Waiting for all agents to complete...\n",
      "\n",
      "🔄 All agents have completed their tasks\n"
     ]
    }
   ],
   "source": [
    "from concurrent.futures import ThreadPoolExecutor, wait\n",
    "\n",
    "print(f\"\\n🚀 Starting 3 concurrent invocations where each instance of an agent, will have it's own model loaded in memory\")\n",
    "\n",
    "tasks = [\n",
    "    \"Stock price of NVIDIA\",\n",
    "    \"Stock price of Apple\",\n",
    "    \"Stock price of Tesla\",\n",
    "]\n",
    "\n",
    "with ThreadPoolExecutor(max_workers=3) as executor:\n",
    "    futures = [executor.submit(kratos.invoke, 'agent-finance', task, False) for task in tasks]\n",
    "\n",
    "    print(f\"\\n🔄 Waiting for all agents to complete...\")\n",
    "    wait(futures)\n",
    "\n",
    "    print(f\"\\n🔄 All agents have completed their tasks\")\n",
    "\n",
    "print(\"\\n\\nQ&A:\")"
   ]
  },
  {
   "cell_type": "code",
   "execution_count": null,
   "id": "cf5389c6",
   "metadata": {},
   "outputs": [],
   "source": []
  }
 ],
 "metadata": {
  "kernelspec": {
   "display_name": ".venv",
   "language": "python",
   "name": "python3"
  },
  "language_info": {
   "codemirror_mode": {
    "name": "ipython",
    "version": 3
   },
   "file_extension": ".py",
   "mimetype": "text/x-python",
   "name": "python",
   "nbconvert_exporter": "python",
   "pygments_lexer": "ipython3",
   "version": "3.11.5"
  }
 },
 "nbformat": 4,
 "nbformat_minor": 5
}
