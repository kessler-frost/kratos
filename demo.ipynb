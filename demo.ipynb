{
 "cells": [
  {
   "cell_type": "code",
   "execution_count": null,
   "id": "32c69722",
   "metadata": {},
   "outputs": [],
   "source": [
    "import kratos\n",
    "from agno.agent import Agent\n",
    "from agno.models.lmstudio import LMStudio\n",
    "from agno.tools.youtube import YouTubeTools\n",
    "from agno.tools.yfinance import YFinanceTools\n",
    "\n",
    "# Creating a few agents using the Agno framework for building agents\n",
    "# All the llm models here use LMStudio as the provider and connect to local API server\n",
    "# I'm using qwen/qwen3-4b model for both agents, but you can use any other model that you have access to.\n",
    "\n",
    "finance_agent = Agent(\n",
    "    model=LMStudio(\n",
    "        id=\"qwen/qwen3-4b\",\n",
    "        base_url=\"http://host.docker.internal:1234/v1\",\n",
    "    ),\n",
    "    name=\"KratosFinance\",\n",
    "    tools=[YFinanceTools(stock_price=True, analyst_recommendations=True, company_info=True)],\n",
    "    instructions=\"You are Kratos Finance Agent, specialized in stock market analysis and financial data. Use YFinance to get current stock prices, analyst recommendations, and company information. When users ask about stocks, always provide current prices and relevant financial metrics. Be precise with numbers and explain what the data means for investment decisions.\",\n",
    ")\n",
    "\n",
    "\n",
    "youtube_agent = Agent(\n",
    "    model=LMStudio(\n",
    "        id=\"qwen/qwen3-4b\",\n",
    "        base_url=\"http://host.docker.internal:1234/v1\",\n",
    "    ),\n",
    "    name=\"KratosYouTube\",\n",
    "    tools=[YouTubeTools()],\n",
    "    instructions=\"You are Kratos YouTube Agent, specialized in analyzing YouTube videos and transcripts. Use YouTube tools to extract video information, transcripts, and analyze content. When users mention YouTube videos, provide detailed analysis of the content, key points, and insights from the transcript. Be thorough in your analysis and highlight important information.\",\n",
    ")\n"
   ]
  },
  {
   "cell_type": "code",
   "execution_count": null,
   "id": "829090fc",
   "metadata": {},
   "outputs": [],
   "source": [
    "# Submit these agents so that they are ready to be used at a later point - none of\n",
    "# these models are actually loaded in memory right now and thus no resources are wasted.\n",
    "\n",
    "print(kratos.submit(finance_agent, name=\"agent-finance\", dependencies=[\"yfinance\"]))\n",
    "print(kratos.submit(youtube_agent, name=\"agent-youtube\", dependencies=[\"youtube-transcript-api\"]))"
   ]
  },
  {
   "cell_type": "code",
   "execution_count": null,
   "id": "30698e00",
   "metadata": {},
   "outputs": [],
   "source": [
    "# The name parameter we used in submit() acts as an identifier as to which agent do you want to invoke.\n",
    "\n",
    "kratos.invoke(name=\"agent-finance\", task=\"How has the trend been for NVIDIA stock?\")"
   ]
  },
  {
   "cell_type": "code",
   "execution_count": null,
   "id": "fd870a4c",
   "metadata": {},
   "outputs": [],
   "source": [
    "kratos.invoke(name=\"agent-youtube\", task=\"Get me a summary of this video: https://www.youtube.com/watch?v=dQw4w9WgXcQ\")"
   ]
  },
  {
   "cell_type": "code",
   "execution_count": null,
   "id": "3db4068a",
   "metadata": {},
   "outputs": [],
   "source": []
  }
 ],
 "metadata": {
  "kernelspec": {
   "display_name": ".venv",
   "language": "python",
   "name": "python3"
  },
  "language_info": {
   "codemirror_mode": {
    "name": "ipython",
    "version": 3
   },
   "file_extension": ".py",
   "mimetype": "text/x-python",
   "name": "python",
   "nbconvert_exporter": "python",
   "pygments_lexer": "ipython3",
   "version": "3.11.5"
  }
 },
 "nbformat": 4,
 "nbformat_minor": 5
}
