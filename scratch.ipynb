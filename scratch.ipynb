{
 "cells": [
  {
   "cell_type": "code",
   "execution_count": null,
   "id": "d6772400",
   "metadata": {},
   "outputs": [],
   "source": [
    "from os import getenv\n",
    "from agno.agent import Agent, RunResponse\n",
    "from agno.models.openai.like import OpenAILike\n",
    "\n",
    "agent = Agent(\n",
    "    model=OpenAILike(\n",
    "        id=\"qwen3\",\n",
    "        # api_key=\"random\",\n",
    "        base_url=\"http://localhost:28100/v1\",\n",
    "    )\n",
    ")\n",
    "\n",
    "# Option 1: Use run() method to get the response object\n",
    "response = agent.run(\"hi\")\n",
    "print(f\"Response: {response}\")\n",
    "\n",
    "# Option 2: Use print_response() which prints directly (returns None)\n",
    "print(\"\\nUsing print_response():\")\n",
    "agent.print_response(\"hi\")"
   ]
  },
  {
   "cell_type": "code",
   "execution_count": null,
   "id": "91f6974d",
   "metadata": {},
   "outputs": [],
   "source": []
  },
  {
   "cell_type": "code",
   "execution_count": null,
   "id": "04aa7509",
   "metadata": {},
   "outputs": [],
   "source": []
  }
 ],
 "metadata": {
  "kernelspec": {
   "display_name": ".venv",
   "language": "python",
   "name": "python3"
  },
  "language_info": {
   "codemirror_mode": {
    "name": "ipython",
    "version": 3
   },
   "file_extension": ".py",
   "mimetype": "text/x-python",
   "name": "python",
   "nbconvert_exporter": "python",
   "pygments_lexer": "ipython3",
   "version": "3.11.5"
  }
 },
 "nbformat": 4,
 "nbformat_minor": 5
}
