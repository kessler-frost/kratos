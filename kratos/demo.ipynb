{
 "cells": [
  {
   "cell_type": "code",
   "execution_count": null,
   "id": "32c69722",
   "metadata": {},
   "outputs": [],
   "source": [
    "from main import create_web_search_agent, create_finance_agent, create_youtube_agent, submit, invoke\n",
    "from concurrent.futures import ThreadPoolExecutor, wait\n",
    "\n",
    "# Creating a few agents using the Agno framework for building agents\n",
    "# All the llm models here use LMStudio as the provider and connect to local API server\n",
    "web_agent = create_web_search_agent(\"deepseek-r1\")\n",
    "finance_agent = create_finance_agent(\"llama3.2\")\n",
    "youtube_agent = create_youtube_agent(\"qwen3\")"
   ]
  },
  {
   "cell_type": "code",
   "execution_count": null,
   "id": "829090fc",
   "metadata": {},
   "outputs": [],
   "source": [
    "# Submit these agents so that they are ready to be used at a later point - none of\n",
    "# these models are actually loaded in memory right now and thus no resources are wasted.\n",
    "with ThreadPoolExecutor(max_workers=3) as executor:\n",
    "    futures = [executor.submit(submit, agent, agent.name) for agent in [web_agent, finance_agent, youtube_agent]]\n",
    "\n",
    "    print(\"Submitting agents...\")\n",
    "    wait(futures)\n",
    "    print(\"Agents submitted and are ready to be invoked!\")"
   ]
  },
  {
   "cell_type": "code",
   "execution_count": null,
   "id": "30698e00",
   "metadata": {},
   "outputs": [],
   "source": []
  },
  {
   "cell_type": "code",
   "execution_count": null,
   "id": "fd870a4c",
   "metadata": {},
   "outputs": [],
   "source": []
  },
  {
   "cell_type": "code",
   "execution_count": null,
   "id": "3db4068a",
   "metadata": {},
   "outputs": [],
   "source": []
  }
 ],
 "metadata": {
  "kernelspec": {
   "display_name": ".venv",
   "language": "python",
   "name": "python3"
  },
  "language_info": {
   "name": "python",
   "version": "3.11.5"
  }
 },
 "nbformat": 4,
 "nbformat_minor": 5
}
